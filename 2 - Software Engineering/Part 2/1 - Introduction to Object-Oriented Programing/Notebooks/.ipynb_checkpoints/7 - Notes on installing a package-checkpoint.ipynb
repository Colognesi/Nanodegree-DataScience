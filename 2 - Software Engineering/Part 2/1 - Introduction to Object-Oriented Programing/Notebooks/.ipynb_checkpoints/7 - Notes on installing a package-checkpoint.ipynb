{
 "cells": [
  {
   "cell_type": "markdown",
   "metadata": {},
   "source": [
    "# What is needed?"
   ]
  },
  {
   "cell_type": "markdown",
   "metadata": {},
   "source": [
    "In order to create and install a pip package we need to fufill a couple of steps:\n",
    "\n",
    "1 - A file named <code>setup.py</code> (this will enable the installation with pip install)<br>\n",
    "__The setup.py should be outside the imported folder, so it will not be imported together__<br>\n",
    "The file structure should be as follows:\n",
    "\n",
    "<code>setup(name='folder_name(example: distributions)',\n",
    "      version='number_of_version(example: 0.1)',\n",
    "      description='description of your package(example: Gaussian distributions)',\n",
    "      packages=['package_name'](example: ['distributions']),\n",
    "      zip_safe=False)</code>\n",
    "\n",
    "to install it you need to open the terminal and type <code> pip install .</code>, this will make pip to search for the __setup.py__ and install it.<br>\n",
    "Besides the setup, we need the classes we want to import, the files should be on the __same folder as mentioned on the setup file.__<br><br>\n",
    "\n",
    "2 - A file named <code>\\__init__\\.py</code><br>\n",
    "This file should contain the importations needed for your classes, example:<br>\n",
    "<code>from .Gaussiandistribution import Gaussian\n",
    "from .Binomialdistribution import Binomial</code><br>\n",
    "This way, when the importation occurs, it will import the classes we're calling.<br>\n",
    "The names being imported should be found on the same folder (as they represent the classes we want to import)"
   ]
  }
 ],
 "metadata": {
  "kernelspec": {
   "display_name": "Python 3",
   "language": "python",
   "name": "python3"
  },
  "language_info": {
   "codemirror_mode": {
    "name": "ipython",
    "version": 3
   },
   "file_extension": ".py",
   "mimetype": "text/x-python",
   "name": "python",
   "nbconvert_exporter": "python",
   "pygments_lexer": "ipython3",
   "version": "3.7.6"
  }
 },
 "nbformat": 4,
 "nbformat_minor": 4
}
